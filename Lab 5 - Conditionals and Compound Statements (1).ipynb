{
 "cells": [
  {
   "cell_type": "markdown",
   "id": "9f0a95fe-a344-4f0b-9ebe-fd0571117f89",
   "metadata": {},
   "source": [
    "# 1. Logical functions and laws using conditionals\n",
    "TASK: Read and modify code acordingly"
   ]
  },
  {
   "cell_type": "code",
   "execution_count": 66,
   "id": "ec4b40b3-b0e6-4c7c-bfa3-4562cdbaf28a",
   "metadata": {},
   "outputs": [
    {
     "name": "stdout",
     "output_type": "stream",
     "text": [
      "p \tq \t¬p \tp ∧ ¬q \t(p ∨ q) → r \tp → q \t(p → r) ∧ (q → r)\n",
      "----------------------------------------------------------------------------------------------------\n",
      "True \tTrue \tFalse \t\tFalse \tTrue \tTrue \tTrue\n",
      "True \tTrue \tFalse \t\tFalse \tFalse \tTrue \tFalse\n",
      "True \tFalse \tFalse \t\tTrue \tTrue \tFalse \tTrue\n",
      "True \tFalse \tFalse \t\tTrue \tFalse \tFalse \tFalse\n",
      "False \tTrue \tTrue \t\tFalse \tTrue \tTrue \tTrue\n",
      "False \tTrue \tTrue \t\tFalse \tFalse \tTrue \tFalse\n",
      "False \tFalse \tTrue \t\tFalse \tTrue \tTrue \tTrue\n",
      "False \tFalse \tTrue \t\tFalse \tTrue \tTrue \tTrue\n"
     ]
    }
   ],
   "source": [
    "# Logical functions\n",
    "def implies(p, q):\n",
    "    return not p or q\n",
    "\n",
    "def contrapositive(p, q):\n",
    "    return implies(not q, not p)\n",
    "\n",
    "def converse(p, q):\n",
    "    return implies(q, p)\n",
    "\n",
    "def inverse(p, q):\n",
    "    return implies(not p, not q)\n",
    "\n",
    "def biconditional(p, q):\n",
    "    return p ** q\n",
    "\n",
    "def xor(p,q):\n",
    "    return (not p and q) and ( (p and not q))\n",
    "\n",
    "# Logical equivalences\n",
    "def distributive(p, q, r):\n",
    "    return implies(p or q, r) == (implies(p, r) and implies(q, r))\n",
    "\n",
    "def exportation(p, q, r):\n",
    "    return implies(p and q, r) == implies(p, implies(q, r))\n",
    "\n",
    "def reduction(p, q):\n",
    "    return not implies(p, q) == (p and not q)\n",
    "\n",
    "def equivalence(p,q):\n",
    "    return biconditional(p,q) == (not xor(p,q))\n",
    "\n",
    "def truthTable():\n",
    "    # Columns\n",
    "    # TASK: Modify each column as required for your compound statement (p, q, r, p ∨ q, (p ∧ q) → r, p → q, (p → r) ∧ (q → r))\n",
    "    \n",
    "    col1 = 'p'\n",
    "    col2 = 'q'\n",
    "    col3 = '¬p'\n",
    "    col4 = 'p ∧ ¬q'\n",
    "    col5 = '(p ∨ q) → r'\n",
    "    col6 = 'p → q'\n",
    "    col7 = '(p → r) ∧ (q → r)'\n",
    "    print(f'{col1} \\t{col2} \\t{col3} \\t{col4} \\t{col5} \\t{col6} \\t{col7}')\n",
    "    print('-'*100)\n",
    "    \n",
    "    # Iteration of proposition values\n",
    "    for p in [True, False]:\n",
    "        for q in [True, False]:\n",
    "            for r in [True, False]:\n",
    "                # Columns\n",
    "                # TASK: Modify each column as required for your compound statement\n",
    "                col1 = p\n",
    "                col2 = q\n",
    "                col3 = not p\n",
    "                col4 = p and not q\n",
    "                col5 = implies((p or q), r)\n",
    "                col6 = implies(p,q)\n",
    "                col7 = implies(p,r) and implies(q,r)\n",
    "                print(f'{col1} \\t{col2} \\t{col3} \\t\\t{col4} \\t{col5} \\t{col6} \\t{col7}')\n",
    "\n",
    "truthTable()"
   ]
  },
  {
   "cell_type": "code",
   "execution_count": 72,
   "id": "f37f6a54-3570-4866-91d5-32166a81e92d",
   "metadata": {},
   "outputs": [
    {
     "name": "stdout",
     "output_type": "stream",
     "text": [
      "----------------------------------------------------------------------------------------------------\n",
      "q \tp V q \t(p ∧ q) → r \tp → q \t(p → r) ∧ (q → r)\n",
      "True \tTrue \tTrue \tTrue \tTrue\n",
      "True \tTrue \tFalse \tTrue \tFalse\n",
      "True \tTrue \tTrue \tFalse \tTrue\n",
      "True \tTrue \tTrue \tFalse \tFalse\n",
      "False \tTrue \tTrue \tTrue \tTrue\n",
      "False \tTrue \tTrue \tTrue \tFalse\n",
      "False \tFalse \tTrue \tTrue \tTrue\n",
      "False \tFalse \tTrue \tTrue \tTrue\n"
     ]
    }
   ],
   "source": [
    "col1 = 'q'\n",
    "col2 = 'p V q'\n",
    "col3 = '(p ∧ q) → r'\n",
    "col4 = 'p → q'\n",
    "col5 = '(p → r) ∧ (q → r)'\n",
    "print('-'*100)\n",
    "print(f'{col1} \\t{col2} \\t{col3} \\t{col4} \\t{col5}')\n",
    "for p in [True, False]:\n",
    "        for q in [True, False]:\n",
    "            for r in [True, False]:\n",
    "                col1 = p\n",
    "                col2 = p or q\n",
    "                col3 = implies(p and q, r)\n",
    "                col4 = implies(p,q)\n",
    "                col5 = implies (p,r) and implies (q,r)\n",
    "                print(f'{col1} \\t{col2} \\t{col3} \\t{col4} \\t{col5}')\n"
   ]
  },
  {
   "cell_type": "markdown",
   "id": "e0179427-dd39-4375-9e1e-7910a96170be",
   "metadata": {},
   "source": [
    "## 2. Testing each logic function"
   ]
  },
  {
   "cell_type": "code",
   "execution_count": 50,
   "id": "33e65344-3489-4cfb-9195-4600b64667e6",
   "metadata": {},
   "outputs": [
    {
     "name": "stdout",
     "output_type": "stream",
     "text": [
      "True\n",
      "(False, True)\n",
      "0\n",
      "True\n"
     ]
    }
   ],
   "source": [
    "# Task: Modify values for p and q\n",
    "#       and try each logical function and logical equivalence\n",
    "# Example:\n",
    "p = False\n",
    "q = True\n",
    "r = False\n",
    "\n",
    "# Example:\n",
    "print((not xor(p,q)) )\n",
    "print((not q, not p))\n",
    "print(biconditional(p,q) )\n",
    "print (not p or q) and ( (p and q))\n",
    "\n"
   ]
  },
  {
   "cell_type": "markdown",
   "id": "cc872434-fec1-4081-baba-6f3254733c46",
   "metadata": {},
   "source": [
    "## 3. Compound statements using conditionals in English"
   ]
  },
  {
   "cell_type": "code",
   "execution_count": 52,
   "id": "eda345e0-9dc5-485a-baf8-a1e5a60385b0",
   "metadata": {},
   "outputs": [
    {
     "name": "stdout",
     "output_type": "stream",
     "text": [
      "Original Proposition:  If it's time for school, then get ready for school.\n",
      "Inverse:  If there's no school today, then no need to get ready for school .\n",
      "Converse:  If get ready for school, then it's time for school.\n",
      "Contrapositive:  If no need to get ready for school , then there's no school today.\n"
     ]
    }
   ],
   "source": [
    "def proposition_to_string(p, q):\n",
    "    prop = f\"If {p}, then {q}.\"   \n",
    "    return prop\n",
    "\n",
    "# TASK: Replace p and q for another compound statement\n",
    "def main():\n",
    "    p = \"it's time for school\"\n",
    "    q = \"get ready for school\"\n",
    "\n",
    "    print(\"Original Proposition: \", proposition_to_string(p, q))\n",
    "\n",
    "    p_inv = \"there's no school today\"\n",
    "    q_inv = \"no need to get ready for school \"\n",
    "\n",
    "    print(\"Inverse: \", proposition_to_string(p_inv, q_inv))\n",
    "    print(\"Converse: \", proposition_to_string(q, p))\n",
    "    print(\"Contrapositive: \", proposition_to_string(q_inv, p_inv))\n",
    "\n",
    "main()"
   ]
  },
  {
   "cell_type": "code",
   "execution_count": null,
   "id": "815290b5-d884-4f29-90e2-6db63f9bbcbb",
   "metadata": {},
   "outputs": [],
   "source": []
  }
 ],
 "metadata": {
  "kernelspec": {
   "display_name": "anaconda-2024.02-py310",
   "language": "python",
   "name": "conda-env-anaconda-2024.02-py310-py"
  },
  "language_info": {
   "codemirror_mode": {
    "name": "ipython",
    "version": 3
   },
   "file_extension": ".py",
   "mimetype": "text/x-python",
   "name": "python",
   "nbconvert_exporter": "python",
   "pygments_lexer": "ipython3",
   "version": "3.10.14"
  }
 },
 "nbformat": 4,
 "nbformat_minor": 5
}
